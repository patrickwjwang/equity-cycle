{
 "cells": [
  {
   "cell_type": "markdown",
   "id": "068b1d9b-45a3-4bf7-861c-cf3686a971b7",
   "metadata": {},
   "source": [
    "## Import Packages"
   ]
  },
  {
   "cell_type": "code",
   "execution_count": 3,
   "id": "c4b51b64-a1fe-40cf-bd84-90dafaaf17e9",
   "metadata": {
    "tags": []
   },
   "outputs": [],
   "source": [
    "# Import packages\n",
    "import os\n",
    "import sys\n",
    "import warnings\n",
    "import inspect\n",
    "import numpy as np\n",
    "import pandas as pd\n",
    "import seaborn as sns\n",
    "import matplotlib.pyplot as plt\n",
    "import matplotlib.dates as mdates\n",
    "from matplotlib.patches import Patch\n",
    "from pypfopt import EfficientFrontier\n",
    "from pypfopt import risk_models\n",
    "from pypfopt import expected_returns\n",
    "from scipy.interpolate import make_interp_spline\n",
    "from scipy.interpolate import UnivariateSpline\n",
    "import bs4 as bs\n",
    "import requests\n",
    "import yfinance as yf\n",
    "import json\n",
    "\n",
    "\n",
    "# Set directories\n",
    "notebook_dir = os.getcwd()\n",
    "base_dir = os.path.join(notebook_dir, '..')\n",
    "data_dir = os.path.join(base_dir, 'data', 'processed')\n",
    "raw_data_dir = os.path.join(base_dir, 'data', 'raw')\n",
    "factor_dir = os.path.join(base_dir, 'data', 'processed', 'factors')\n",
    "sample_dir = os.path.join(base_dir, 'data', 'processed', 'sample_stock')\n",
    "src_dir = os.path.join(base_dir, 'src')\n",
    "graph_dir = os.path.join(base_dir, 'results', 'graphs')\n",
    "sys.path.append(src_dir)\n",
    "\n",
    "# Import optimal portfolio\n",
    "from optimal_portfolios import OptimalPortfolios\n",
    "\n",
    "# Ignore future warning\n",
    "warnings.simplefilter(action='ignore', category=FutureWarning)"
   ]
  },
  {
   "cell_type": "markdown",
   "id": "2ef71d4b-dd87-44d5-a6dc-7537a95f3a31",
   "metadata": {},
   "source": [
    "## Get S&P 1500 Stock Tickers and Industry"
   ]
  },
  {
   "cell_type": "code",
   "execution_count": 36,
   "id": "3b7d9fbf-1279-4706-941d-420f7e287a42",
   "metadata": {
    "tags": []
   },
   "outputs": [],
   "source": [
    "def get_sp_tickers(num):\n",
    "    wiki_url = 'http://en.wikipedia.org/wiki/List_of_S%26P_' + str(num) + '_companies'\n",
    "    resp = requests.get(wiki_url)\n",
    "    soup = bs.BeautifulSoup(resp.text, 'lxml')\n",
    "    table = soup.find('table', {'class': 'wikitable sortable'})\n",
    "    tickers = []\n",
    "    sectors = []\n",
    "    for row in table.findAll('tr')[1:]:\n",
    "        ticker = row.findAll('td')[0].text\n",
    "        sector = row.findAll('td')[2].text\n",
    "        tickers.append(ticker)\n",
    "        sectors.append(sector)\n",
    "    tickers = [s.replace('\\n', '') for s in tickers]\n",
    "    sectors = [s.replace('\\n', '') for s in sectors]\n",
    "    \n",
    "    # Create a DataFrame\n",
    "    data = pd.DataFrame({'tickers': tickers,'sector': sectors})\n",
    "    return data\n",
    "\n",
    "stock_sector = pd.concat([get_sp_tickers(500), get_sp_tickers(400), get_sp_tickers(600)]).drop_duplicates(keep='first').reset_index(drop=True)"
   ]
  },
  {
   "cell_type": "code",
   "execution_count": 38,
   "id": "25d79aba-c133-4ec8-a06c-ef234ae324aa",
   "metadata": {
    "tags": []
   },
   "outputs": [
    {
     "data": {
      "text/html": [
       "<div>\n",
       "<style scoped>\n",
       "    .dataframe tbody tr th:only-of-type {\n",
       "        vertical-align: middle;\n",
       "    }\n",
       "\n",
       "    .dataframe tbody tr th {\n",
       "        vertical-align: top;\n",
       "    }\n",
       "\n",
       "    .dataframe thead th {\n",
       "        text-align: right;\n",
       "    }\n",
       "</style>\n",
       "<table border=\"1\" class=\"dataframe\">\n",
       "  <thead>\n",
       "    <tr style=\"text-align: right;\">\n",
       "      <th></th>\n",
       "      <th>tickers</th>\n",
       "      <th>sector</th>\n",
       "    </tr>\n",
       "  </thead>\n",
       "  <tbody>\n",
       "    <tr>\n",
       "      <th>0</th>\n",
       "      <td>MMM</td>\n",
       "      <td>Industrials</td>\n",
       "    </tr>\n",
       "    <tr>\n",
       "      <th>1</th>\n",
       "      <td>AOS</td>\n",
       "      <td>Industrials</td>\n",
       "    </tr>\n",
       "    <tr>\n",
       "      <th>2</th>\n",
       "      <td>ABT</td>\n",
       "      <td>Health Care</td>\n",
       "    </tr>\n",
       "    <tr>\n",
       "      <th>3</th>\n",
       "      <td>ABBV</td>\n",
       "      <td>Health Care</td>\n",
       "    </tr>\n",
       "    <tr>\n",
       "      <th>4</th>\n",
       "      <td>ACN</td>\n",
       "      <td>Information Technology</td>\n",
       "    </tr>\n",
       "    <tr>\n",
       "      <th>...</th>\n",
       "      <td>...</td>\n",
       "      <td>...</td>\n",
       "    </tr>\n",
       "    <tr>\n",
       "      <th>1501</th>\n",
       "      <td>XPEL</td>\n",
       "      <td>Consumer Discretionary</td>\n",
       "    </tr>\n",
       "    <tr>\n",
       "      <th>1502</th>\n",
       "      <td>XPER</td>\n",
       "      <td>Information Technology</td>\n",
       "    </tr>\n",
       "    <tr>\n",
       "      <th>1503</th>\n",
       "      <td>XRX</td>\n",
       "      <td>Information Technology</td>\n",
       "    </tr>\n",
       "    <tr>\n",
       "      <th>1504</th>\n",
       "      <td>YELP</td>\n",
       "      <td>Communication Services</td>\n",
       "    </tr>\n",
       "    <tr>\n",
       "      <th>1505</th>\n",
       "      <td>ZEUS</td>\n",
       "      <td>Materials</td>\n",
       "    </tr>\n",
       "  </tbody>\n",
       "</table>\n",
       "<p>1506 rows × 2 columns</p>\n",
       "</div>"
      ],
      "text/plain": [
       "     tickers                  sector\n",
       "0        MMM             Industrials\n",
       "1        AOS             Industrials\n",
       "2        ABT             Health Care\n",
       "3       ABBV             Health Care\n",
       "4        ACN  Information Technology\n",
       "...      ...                     ...\n",
       "1501    XPEL  Consumer Discretionary\n",
       "1502    XPER  Information Technology\n",
       "1503     XRX  Information Technology\n",
       "1504    YELP  Communication Services\n",
       "1505    ZEUS               Materials\n",
       "\n",
       "[1506 rows x 2 columns]"
      ]
     },
     "metadata": {},
     "output_type": "display_data"
    },
    {
     "name": "stdout",
     "output_type": "stream",
     "text": [
      "['Industrials' 'Health Care' 'Information Technology' 'Utilities'\n",
      " 'Financials' 'Materials' 'Consumer Discretionary' 'Real Estate'\n",
      " 'Communication Services' 'Consumer Staples' 'Energy']\n"
     ]
    }
   ],
   "source": [
    "# Show stock tickers and sectors\n",
    "display(stock_sector)\n",
    "print(stock_sector['sector'].unique())\n",
    "\n",
    "# Save to csv\n",
    "# stock_sector.to_csv(os.path.join(data_dir, 'stock_sector.csv'), index=False) "
   ]
  },
  {
   "cell_type": "code",
   "execution_count": null,
   "id": "8de1ea33-589a-4ce6-a55b-eee098610246",
   "metadata": {},
   "outputs": [],
   "source": []
  }
 ],
 "metadata": {
  "kernelspec": {
   "display_name": "Python 3 (ipykernel)",
   "language": "python",
   "name": "python3"
  },
  "language_info": {
   "codemirror_mode": {
    "name": "ipython",
    "version": 3
   },
   "file_extension": ".py",
   "mimetype": "text/x-python",
   "name": "python",
   "nbconvert_exporter": "python",
   "pygments_lexer": "ipython3",
   "version": "3.11.3"
  }
 },
 "nbformat": 4,
 "nbformat_minor": 5
}
