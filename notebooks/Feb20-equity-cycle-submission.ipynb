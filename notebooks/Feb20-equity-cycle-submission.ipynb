{
 "cells": [
  {
   "cell_type": "markdown",
   "metadata": {},
   "source": [
    "# Topic: Fama-French Equity Factors over Business Cycles\n",
    "\n",
    "* Feburary 20 Python Markdown Submission: Data read-in, visualization, and EDA\n",
    "* Group members: Kenneth Chen, Yoshiyasu Kawamura, Byungsoo Kim, Patrick Wang\n",
    "* For the data and detailed python code please visit our GitHub repo: https://github.com/patrickwjwang/equity-cycle\n"
   ]
  },
  {
   "cell_type": "markdown",
   "metadata": {},
   "source": [
    "## Background settings"
   ]
  },
  {
   "cell_type": "code",
   "execution_count": 45,
   "metadata": {},
   "outputs": [],
   "source": [
    "# Import packages\n",
    "import os\n",
    "import sys\n",
    "import warnings\n",
    "import inspect\n",
    "import numpy as np\n",
    "import pandas as pd\n",
    "import matplotlib.pyplot as plt\n",
    "from pypfopt import EfficientFrontier\n",
    "from pypfopt import risk_models\n",
    "from pypfopt import expected_returns\n",
    "from scipy.interpolate import make_interp_spline\n",
    "\n",
    "# Set directories\n",
    "notebook_dir = os.getcwd()\n",
    "base_dir = os.path.join(notebook_dir, '..')\n",
    "data_dir = os.path.join(base_dir, 'data', 'processed')\n",
    "src_dir = os.path.join(base_dir, 'src')\n",
    "sys.path.append(src_dir)\n",
    "\n",
    "# Ignore future warning\n",
    "warnings.simplefilter(action='ignore', category=FutureWarning)  "
   ]
  },
  {
   "cell_type": "markdown",
   "metadata": {},
   "source": [
    "## 1. Risk factors data"
   ]
  },
  {
   "cell_type": "code",
   "execution_count": 36,
   "metadata": {},
   "outputs": [],
   "source": [
    "# Some EDA using FF6 risk factors data"
   ]
  },
  {
   "cell_type": "markdown",
   "metadata": {},
   "source": [
    "## 2. Stock data"
   ]
  },
  {
   "cell_type": "code",
   "execution_count": 37,
   "metadata": {},
   "outputs": [],
   "source": [
    "# Some EDA using stock data"
   ]
  },
  {
   "cell_type": "markdown",
   "metadata": {},
   "source": [
    "## 3. Construct optimal potfolios using stock data"
   ]
  },
  {
   "cell_type": "markdown",
   "metadata": {},
   "source": [
    "We wrote a python class called `OptimalPortfolios`, stored in the `src` directory. The doc string for this class is printed out below."
   ]
  },
  {
   "cell_type": "code",
   "execution_count": 44,
   "metadata": {
    "scrolled": true
   },
   "outputs": [
    {
     "name": "stdout",
     "output_type": "stream",
     "text": [
      "Help on class OptimalPortfolios in module optimal_portfolios:\n",
      "\n",
      "class OptimalPortfolios(builtins.object)\n",
      " |  OptimalPortfolios(stock_df, num_pfo)\n",
      " |  \n",
      " |  OptimalPortfolios calculates optimal portfolio weights using the Efficient Frontier method \n",
      " |  and computes portfolio returns over different time frames. \n",
      " |  'Portfolio_1' is the portfolio that achieves 50-quantile stock return with minimized variance\n",
      " |  and 'Portfolio_num_pfo' is the 90-quantile stock return with minimized variance\n",
      " |  \n",
      " |  Attributes:\n",
      " |      stock_df (DataFrame): Historical stock prices.\n",
      " |      num_pfo (int): Number of portfolios on the efficient frontier.\n",
      " |      pfo_returns (list): List of expected returns for each portfolio.\n",
      " |      pfo_vars (list): List of variances for each portfolio.\n",
      " |  \n",
      " |  Example:\n",
      " |      stock_df = pd.read_csv('stock_data.csv')\n",
      " |      op = OptimalPortfolios(stock_df, num_pfo=5)\n",
      " |      op.calculate_efficient_frontier()\n",
      " |      print(op.weekly_return)\n",
      " |  \n",
      " |  Methods defined here:\n",
      " |  \n",
      " |  __init__(self, stock_df, num_pfo)\n",
      " |      Initialize self.  See help(type(self)) for accurate signature.\n",
      " |  \n",
      " |  calculate_efficient_frontier(self)\n",
      " |  \n",
      " |  ----------------------------------------------------------------------\n",
      " |  Readonly properties defined here:\n",
      " |  \n",
      " |  annual_return\n",
      " |  \n",
      " |  daily_return\n",
      " |  \n",
      " |  monthly_return\n",
      " |  \n",
      " |  weekly_return\n",
      " |  \n",
      " |  ----------------------------------------------------------------------\n",
      " |  Data descriptors defined here:\n",
      " |  \n",
      " |  __dict__\n",
      " |      dictionary for instance variables (if defined)\n",
      " |  \n",
      " |  __weakref__\n",
      " |      list of weak references to the object (if defined)\n",
      "\n"
     ]
    }
   ],
   "source": [
    "from optimal_portfolios import OptimalPortfolios\n",
    "help(OptimalPortfolios)"
   ]
  },
  {
   "cell_type": "code",
   "execution_count": 50,
   "metadata": {},
   "outputs": [
    {
     "data": {
      "text/html": [
       "<div>\n",
       "<style scoped>\n",
       "    .dataframe tbody tr th:only-of-type {\n",
       "        vertical-align: middle;\n",
       "    }\n",
       "\n",
       "    .dataframe tbody tr th {\n",
       "        vertical-align: top;\n",
       "    }\n",
       "\n",
       "    .dataframe thead th {\n",
       "        text-align: right;\n",
       "    }\n",
       "</style>\n",
       "<table border=\"1\" class=\"dataframe\">\n",
       "  <thead>\n",
       "    <tr style=\"text-align: right;\">\n",
       "      <th></th>\n",
       "      <th>portfolio_1</th>\n",
       "      <th>portfolio_2</th>\n",
       "      <th>portfolio_3</th>\n",
       "      <th>portfolio_4</th>\n",
       "      <th>portfolio_5</th>\n",
       "      <th>portfolio_6</th>\n",
       "      <th>portfolio_7</th>\n",
       "      <th>portfolio_8</th>\n",
       "      <th>portfolio_9</th>\n",
       "      <th>portfolio_10</th>\n",
       "    </tr>\n",
       "    <tr>\n",
       "      <th>Date</th>\n",
       "      <th></th>\n",
       "      <th></th>\n",
       "      <th></th>\n",
       "      <th></th>\n",
       "      <th></th>\n",
       "      <th></th>\n",
       "      <th></th>\n",
       "      <th></th>\n",
       "      <th></th>\n",
       "      <th></th>\n",
       "    </tr>\n",
       "  </thead>\n",
       "  <tbody>\n",
       "    <tr>\n",
       "      <th>1997-12-31</th>\n",
       "      <td>0.291056</td>\n",
       "      <td>0.305851</td>\n",
       "      <td>0.323519</td>\n",
       "      <td>0.344971</td>\n",
       "      <td>0.368468</td>\n",
       "      <td>0.392649</td>\n",
       "      <td>0.419314</td>\n",
       "      <td>0.445730</td>\n",
       "      <td>0.473978</td>\n",
       "      <td>0.503408</td>\n",
       "    </tr>\n",
       "    <tr>\n",
       "      <th>1998-12-31</th>\n",
       "      <td>-0.015105</td>\n",
       "      <td>-0.003537</td>\n",
       "      <td>0.008597</td>\n",
       "      <td>0.029032</td>\n",
       "      <td>0.057392</td>\n",
       "      <td>0.086527</td>\n",
       "      <td>0.115739</td>\n",
       "      <td>0.145245</td>\n",
       "      <td>0.175971</td>\n",
       "      <td>0.210679</td>\n",
       "    </tr>\n",
       "    <tr>\n",
       "      <th>1999-12-31</th>\n",
       "      <td>0.027292</td>\n",
       "      <td>0.049184</td>\n",
       "      <td>0.067371</td>\n",
       "      <td>0.081570</td>\n",
       "      <td>0.093759</td>\n",
       "      <td>0.103862</td>\n",
       "      <td>0.115056</td>\n",
       "      <td>0.126832</td>\n",
       "      <td>0.137487</td>\n",
       "      <td>0.147056</td>\n",
       "    </tr>\n",
       "    <tr>\n",
       "      <th>2000-12-31</th>\n",
       "      <td>0.172903</td>\n",
       "      <td>0.204511</td>\n",
       "      <td>0.240880</td>\n",
       "      <td>0.278001</td>\n",
       "      <td>0.310402</td>\n",
       "      <td>0.344436</td>\n",
       "      <td>0.376962</td>\n",
       "      <td>0.407809</td>\n",
       "      <td>0.436122</td>\n",
       "      <td>0.463471</td>\n",
       "    </tr>\n",
       "    <tr>\n",
       "      <th>2001-12-31</th>\n",
       "      <td>0.185661</td>\n",
       "      <td>0.200994</td>\n",
       "      <td>0.218750</td>\n",
       "      <td>0.235145</td>\n",
       "      <td>0.256178</td>\n",
       "      <td>0.277707</td>\n",
       "      <td>0.301349</td>\n",
       "      <td>0.326634</td>\n",
       "      <td>0.351059</td>\n",
       "      <td>0.373348</td>\n",
       "    </tr>\n",
       "  </tbody>\n",
       "</table>\n",
       "</div>"
      ],
      "text/plain": [
       "            portfolio_1  portfolio_2  portfolio_3  portfolio_4  portfolio_5  \\\n",
       "Date                                                                          \n",
       "1997-12-31     0.291056     0.305851     0.323519     0.344971     0.368468   \n",
       "1998-12-31    -0.015105    -0.003537     0.008597     0.029032     0.057392   \n",
       "1999-12-31     0.027292     0.049184     0.067371     0.081570     0.093759   \n",
       "2000-12-31     0.172903     0.204511     0.240880     0.278001     0.310402   \n",
       "2001-12-31     0.185661     0.200994     0.218750     0.235145     0.256178   \n",
       "\n",
       "            portfolio_6  portfolio_7  portfolio_8  portfolio_9  portfolio_10  \n",
       "Date                                                                          \n",
       "1997-12-31     0.392649     0.419314     0.445730     0.473978      0.503408  \n",
       "1998-12-31     0.086527     0.115739     0.145245     0.175971      0.210679  \n",
       "1999-12-31     0.103862     0.115056     0.126832     0.137487      0.147056  \n",
       "2000-12-31     0.344436     0.376962     0.407809     0.436122      0.463471  \n",
       "2001-12-31     0.277707     0.301349     0.326634     0.351059      0.373348  "
      ]
     },
     "execution_count": 50,
     "metadata": {},
     "output_type": "execute_result"
    }
   ],
   "source": [
    "# Example usage of OptimalPortfolios using sample data\n",
    "stock_df = pd.read_parquet(os.path.join(data_dir, 'sp1500_199603_200111.parquet'))\n",
    "\n",
    "# Initialize the class and calculate efficient frontier\n",
    "num_pfo = 10\n",
    "ef_pfo = OptimalPortfolios(stock_df, num_pfo)\n",
    "ef_pfo.calculate_efficient_frontier()\n",
    "\n",
    "# Access returns for the optimized portfolio\n",
    "daily_return_df = ef_pfo.monthly_return\n",
    "weekly_return_df = ef_pfo.weekly_return\n",
    "monthly_return_df = ef_pfo.monthly_return\n",
    "annual_return_df = ef_pfo.annual_return\n",
    "annual_return_df.head() "
   ]
  },
  {
   "cell_type": "code",
   "execution_count": 55,
   "metadata": {},
   "outputs": [
    {
     "data": {
      "image/png": "[encoded data removed]",
      "text/plain": [
       "<Figure size 640x480 with 1 Axes>"
      ]
     },
     "metadata": {},
     "output_type": "display_data"
    }
   ],
   "source": [
    "# Convert lists to numpy arrays for easier manipulation\n",
    "pfo_returns_array = np.array(ef_pfo.pfo_returns)\n",
    "pfo_vars_array = np.array(ef_pfo.pfo_vars)\n",
    "sorted_indices = np.argsort(pfo_vars_array)\n",
    "pfo_vars_sorted = pfo_vars_array[sorted_indices]\n",
    "pfo_returns_sorted = pfo_returns_array[sorted_indices]\n",
    "\n",
    "# Creating the spline to smooth efficent frontier\n",
    "spline = make_interp_spline(pfo_vars_sorted, pfo_returns_sorted, k=3)  # k is the degree of the spline\n",
    "smooth_vars = np.linspace(pfo_vars_sorted.min(), pfo_vars_sorted.max(), 300)\n",
    "smooth_returns = spline(smooth_vars)\n",
    "\n",
    "# Plotting the efficient frontier using the sample data\n",
    "plt.scatter(ef_pfo.pfo_vars, ef_pfo.pfo_returns, color='royalblue', label='Portfolios')\n",
    "plt.plot(smooth_vars, smooth_returns, color='royalblue', label='Efficient Frontier')\n",
    "plt.title('Efficient Frontier from S&P 1500 (1996/03 - 2001/11)')\n",
    "plt.xlabel('Variance (Risk)')\n",
    "plt.ylabel('Annual Expected Return (%)')\n",
    "plt.grid(True)\n",
    "plt.legend()\n",
    "plt.show()"
   ]
  },
  {
   "cell_type": "code",
   "execution_count": null,
   "metadata": {},
   "outputs": [],
   "source": []
  }
 ],
 "metadata": {
  "kernelspec": {
   "display_name": "Python 3 (ipykernel)",
   "language": "python",
   "name": "python3"
  },
  "language_info": {
   "codemirror_mode": {
    "name": "ipython",
    "version": 3
   },
   "file_extension": ".py",
   "mimetype": "text/x-python",
   "name": "python",
   "nbconvert_exporter": "python",
   "pygments_lexer": "ipython3",
   "version": "3.11.3"
  }
 },
 "nbformat": 4,
 "nbformat_minor": 2
}
